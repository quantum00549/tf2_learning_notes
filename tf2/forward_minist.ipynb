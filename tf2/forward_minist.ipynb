{
 "cells": [
  {
   "cell_type": "code",
   "execution_count": 1,
   "metadata": {},
   "outputs": [],
   "source": [
    "# from IPython.core.interactiveshell import InteractiveShell\n",
    "# InteractiveShell.ast_node_interactivity = \"all\"\n",
    "import tensorflow as tf\n",
    "import matplotlib.pyplot as plt\n",
    "import tensorflow.keras.datasets as datasets\n",
    "gpus = tf.config.experimental.list_physical_devices('GPU')\n",
    "if gpus:\n",
    "    try:\n",
    "        for gpu in gpus:\n",
    "            tf.config.experimental.set_memory_growth(gpu, True)\n",
    "    except RuntimeError as e:\n",
    "        print(e)"
   ]
  },
  {
   "cell_type": "code",
   "execution_count": 2,
   "metadata": {},
   "outputs": [],
   "source": [
    "(x, y), (x_val, y_val) = datasets.mnist.load_data()\n",
    "x = tf.convert_to_tensor(x, dtype=tf.float32) / 255.\n",
    "y = tf.convert_to_tensor(y, dtype=tf.int32)\n",
    "y = tf.one_hot(y, depth=10)\n",
    "x = tf.reshape(x,(-1,28*28))\n",
    "train_dataset = tf.data.Dataset.from_tensor_slices((x, y)).batch(2000)"
   ]
  },
  {
   "cell_type": "code",
   "execution_count": 3,
   "metadata": {},
   "outputs": [],
   "source": [
    "w1 = tf.Variable(tf.random.truncated_normal([784,256],mean=0,stddev=0.1))\n",
    "b1 = tf.Variable(tf.zeros([256]))\n",
    "w2 = tf.Variable(tf.random.truncated_normal([256,128],mean=0,stddev=0.1))\n",
    "b2 = tf.Variable(tf.zeros([128]))\n",
    "w3 = tf.Variable(tf.random.truncated_normal([128,10],mean=0,stddev=0.1))\n",
    "b3 = tf.Variable(tf.zeros([10]))"
   ]
  },
  {
   "cell_type": "code",
   "execution_count": 4,
   "metadata": {},
   "outputs": [],
   "source": [
    "lr = 0.01\n",
    "losses = []\n",
    "for epoch in range(20):\n",
    "    for step,(x,y) in enumerate(train_dataset):\n",
    "        with tf.GradientTape() as tape:\n",
    "            x = tf.reshape(x,(-1,784))\n",
    "            h1 = x@w1 + tf.broadcast_to(b1,[x.shape[0],256])\n",
    "            h1 = tf.nn.relu(h1)\n",
    "            h2 = h1@w2 + tf.broadcast_to(b2,[h1.shape[0],128])\n",
    "            h2 = tf.nn.relu(h2)\n",
    "            out = h2@w3 + tf.broadcast_to(b3,[h2.shape[0],10])\n",
    "            loss = tf.reduce_mean(tf.square(y-out))\n",
    "            grads = tape.gradient(loss, [w1, b1, w2, b2, w3, b3])\n",
    "            w1.assign_sub(lr * grads[0])\n",
    "            b1.assign_sub(lr * grads[1])\n",
    "            w2.assign_sub(lr * grads[2])\n",
    "            b2.assign_sub(lr * grads[3])\n",
    "            w3.assign_sub(lr * grads[4])\n",
    "            b3.assign_sub(lr * grads[5])\n",
    "        losses.append(loss.numpy())\n",
    "# 若使用w1 = w1 - (lr * grads[0]),会提示float与None不能相减，broadcast自动扩展机制在此情况下也不生效，\n",
    "# 但是在grads = tape.gradient语句后使用print发现此时grads已经是一个tensor，\n",
    "# 而且w1 = w1 - (lr * grads[0])也是在with语句内，\n",
    "# 应该是assign sub函数自带梯度初始化功能"
   ]
  },
  {
   "cell_type": "code",
   "execution_count": 5,
   "metadata": {},
   "outputs": [
    {
     "data": {
      "text/plain": [
       "[<matplotlib.lines.Line2D at 0x1bf28294748>]"
      ]
     },
     "execution_count": 5,
     "metadata": {},
     "output_type": "execute_result"
    },
    {
     "data": {
      "image/png": "[encoded data removed]",
      "text/plain": [
       "<Figure size 432x288 with 1 Axes>"
      ]
     },
     "metadata": {
      "needs_background": "light"
     },
     "output_type": "display_data"
    }
   ],
   "source": [
    "plt.plot(losses)"
   ]
  },
  {
   "cell_type": "code",
   "execution_count": null,
   "metadata": {},
   "outputs": [],
   "source": []
  }
 ],
 "metadata": {
  "kernelspec": {
   "display_name": "cuda",
   "language": "python",
   "name": "cuda"
  },
  "language_info": {
   "codemirror_mode": {
    "name": "ipython",
    "version": 3
   },
   "file_extension": ".py",
   "mimetype": "text/x-python",
   "name": "python",
   "nbconvert_exporter": "python",
   "pygments_lexer": "ipython3",
   "version": "3.7.7"
  }
 },
 "nbformat": 4,
 "nbformat_minor": 4
}
